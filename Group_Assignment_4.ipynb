{
  "nbformat": 4,
  "nbformat_minor": 0,
  "metadata": {
    "colab": {
      "name": "Project 4.ipynb",
      "provenance": [],
      "collapsed_sections": []
    },
    "kernelspec": {
      "name": "python3",
      "display_name": "Python 3"
    }
  },
  "cells": [
    {
      "cell_type": "markdown",
      "metadata": {
        "id": "RdO5lZ2qQssr",
        "colab_type": "text"
      },
      "source": [
        "https://github.com/jackmansur/IST210/blob/master/Screenshot%20(102).png?raw=true"
      ]
    },
    {
      "cell_type": "code",
      "metadata": {
        "id": "9LGEhLisxHMe",
        "colab_type": "code",
        "colab": {}
      },
      "source": [
        "import sqlite3 \n",
        "#BOOK\n",
        "connectionToDatabase = sqlite3.connect('LibraryData') \n",
        "cursor = connectionToDatabase.cursor()\n",
        "\n",
        "cursor.execute('''drop table IF EXISTS book''')\n",
        "connectionToDatabase.commit()\n",
        "cursor.execute('''create table book (bookID real PRIMARY KEY, title text, numberAvailable real, employeeID real)''')\n",
        "connectionToDatabase.commit()\n"
      ],
      "execution_count": 0,
      "outputs": []
    },
    {
      "cell_type": "code",
      "metadata": {
        "id": "5txOpLjiIzag",
        "colab_type": "code",
        "colab": {}
      },
      "source": [
        "#BOOK DATA\n",
        "connectionToDatabase = sqlite3.connect('LibraryData') \n",
        "cursor = connectionToDatabase.cursor()\n",
        "\n",
        "cursor.execute('''insert into book values ('21', 'Wuthering Heights', '2', '10' )''')\n",
        "connectionToDatabase.commit()\n",
        "cursor.execute('''insert into book values ('22', 'Pride and Predjudice', '4', '11' )''')\n",
        "connectionToDatabase.commit()\n",
        "cursor.execute('''insert into book values ('23', 'The Great Gatsby', '5', '12' )''')\n",
        "connectionToDatabase.commit()\n",
        "cursor.execute('''insert into book values ('24', 'The Grapes of Wrath', '1', '13' )''')\n",
        "connectionToDatabase.commit()\n",
        "cursor.execute('''insert into book values ('25', 'Heart of Darkness', '4', '14' )''')\n",
        "connectionToDatabase.commit()"
      ],
      "execution_count": 0,
      "outputs": []
    },
    {
      "cell_type": "code",
      "metadata": {
        "id": "SgoVOC_sY2Ma",
        "colab_type": "code",
        "outputId": "fea23702-e23b-4c08-aa47-81c2094d52af",
        "colab": {
          "base_uri": "https://localhost:8080/",
          "height": 103
        }
      },
      "source": [
        "cursor.execute('''select * from book''')\n",
        "for row in cursor.fetchall():\n",
        "  print(row)"
      ],
      "execution_count": 3,
      "outputs": [
        {
          "output_type": "stream",
          "text": [
            "(21.0, 'Wuthering Heights', 2.0, 10.0)\n",
            "(22.0, 'Pride and Predjudice', 4.0, 11.0)\n",
            "(23.0, 'The Great Gatsby', 5.0, 12.0)\n",
            "(24.0, 'The Grapes of Wrath', 1.0, 13.0)\n",
            "(25.0, 'Heart of Darkness', 4.0, 14.0)\n"
          ],
          "name": "stdout"
        }
      ]
    },
    {
      "cell_type": "code",
      "metadata": {
        "id": "MhnYBxQ-y1gR",
        "colab_type": "code",
        "colab": {}
      },
      "source": [
        "#BILL\n",
        "connectionToDatabase = sqlite3.connect('LibraryData') \n",
        "cursor = connectionToDatabase.cursor()\n",
        "\n",
        "cursor.execute('''drop table IF EXISTS bill''')\n",
        "connectionToDatabase.commit()\n",
        "cursor.execute('''create table bill (billID real PRIMARY KEY, userID real, price real, branchID real)''')\n",
        "connectionToDatabase.commit()\n"
      ],
      "execution_count": 0,
      "outputs": []
    },
    {
      "cell_type": "code",
      "metadata": {
        "id": "-_QlFYMiI0Ty",
        "colab_type": "code",
        "colab": {}
      },
      "source": [
        "#BILL DATA\n",
        "connectionToDatabase = sqlite3.connect('LibraryData') \n",
        "cursor = connectionToDatabase.cursor()\n",
        "\n",
        "cursor.execute('''insert into bill values ('31', '01', '12.32', '45' )''')\n",
        "connectionToDatabase.commit()\n",
        "cursor.execute('''insert into bill values ('32', '02', '3.43', '41' )''')\n",
        "connectionToDatabase.commit()\n",
        "cursor.execute('''insert into bill values ('33', '03', '2.65', '42' )''')\n",
        "connectionToDatabase.commit()\n",
        "cursor.execute('''insert into bill values ('34', '04', '15.32', '42' )''')\n",
        "connectionToDatabase.commit()\n",
        "cursor.execute('''insert into bill values ('35', '05', '9.23', '41' )''')\n",
        "connectionToDatabase.commit()"
      ],
      "execution_count": 0,
      "outputs": []
    },
    {
      "cell_type": "code",
      "metadata": {
        "id": "-Q89LKoXaNIP",
        "colab_type": "code",
        "outputId": "5049fd47-8d26-432c-a0cc-e9aafdcc83f5",
        "colab": {
          "base_uri": "https://localhost:8080/",
          "height": 103
        }
      },
      "source": [
        "cursor.execute('''select * from bill''')\n",
        "for row in cursor.fetchall():\n",
        "  print(row)"
      ],
      "execution_count": 6,
      "outputs": [
        {
          "output_type": "stream",
          "text": [
            "(31.0, 1.0, 12.32, 45.0)\n",
            "(32.0, 2.0, 3.43, 41.0)\n",
            "(33.0, 3.0, 2.65, 42.0)\n",
            "(34.0, 4.0, 15.32, 42.0)\n",
            "(35.0, 5.0, 9.23, 41.0)\n"
          ],
          "name": "stdout"
        }
      ]
    },
    {
      "cell_type": "code",
      "metadata": {
        "id": "j1k5w4rUy5tX",
        "colab_type": "code",
        "colab": {}
      },
      "source": [
        "#BRANCH\n",
        "connectionToDatabase = sqlite3.connect('LibraryData') \n",
        "cursor = connectionToDatabase.cursor()\n",
        "cursor.execute('''drop table IF EXISTS branch''')\n",
        "connectionToDatabase.commit()\n",
        "\n",
        "cursor.execute('''create table branch (branchID real PRIMARY KEY, location text, booksAvailable real, employeeID real)''')\n",
        "connectionToDatabase.commit()\n"
      ],
      "execution_count": 0,
      "outputs": []
    },
    {
      "cell_type": "code",
      "metadata": {
        "id": "IMJjPcqdI1B5",
        "colab_type": "code",
        "colab": {}
      },
      "source": [
        "#BRANCH DATA\n",
        "connectionToDatabase = sqlite3.connect('LibraryData') \n",
        "cursor = connectionToDatabase.cursor()\n",
        "\n",
        "cursor.execute('''insert into branch values ('41', 'State College', '3454', '10' )''')\n",
        "connectionToDatabase.commit()\n",
        "cursor.execute('''insert into branch values ('42', 'Pittsburgh', '4325', '11' )''')\n",
        "connectionToDatabase.commit()\n",
        "cursor.execute('''insert into branch values ('43', 'New York', '7653', '12' )''')\n",
        "connectionToDatabase.commit()\n",
        "cursor.execute('''insert into branch values ('44', 'Washington D.C', '8970', '13' )''')\n",
        "connectionToDatabase.commit()\n",
        "cursor.execute('''insert into branch values ('45', 'Harrisburg', '5678', '14' )''')\n",
        "connectionToDatabase.commit()"
      ],
      "execution_count": 0,
      "outputs": []
    },
    {
      "cell_type": "code",
      "metadata": {
        "id": "MmxUlGc2aUTg",
        "colab_type": "code",
        "outputId": "db12ac05-28c4-49fe-edcf-5898898122c5",
        "colab": {
          "base_uri": "https://localhost:8080/",
          "height": 103
        }
      },
      "source": [
        "cursor.execute('''select * from branch''')\n",
        "for row in cursor.fetchall():\n",
        "  print(row)"
      ],
      "execution_count": 9,
      "outputs": [
        {
          "output_type": "stream",
          "text": [
            "(41.0, 'State College', 3454.0, 10.0)\n",
            "(42.0, 'Pittsburgh', 4325.0, 11.0)\n",
            "(43.0, 'New York', 7653.0, 12.0)\n",
            "(44.0, 'Washington D.C', 8970.0, 13.0)\n",
            "(45.0, 'Harrisburg', 5678.0, 14.0)\n"
          ],
          "name": "stdout"
        }
      ]
    },
    {
      "cell_type": "code",
      "metadata": {
        "id": "6Do7oxqLy6Rh",
        "colab_type": "code",
        "colab": {}
      },
      "source": [
        "#EMPLOYEE\n",
        "connectionToDatabase = sqlite3.connect('LibraryData') \n",
        "cursor = connectionToDatabase.cursor()\n",
        "cursor.execute('''drop table IF EXISTS employee''')\n",
        "connectionToDatabase.commit()\n",
        "\n",
        "cursor.execute('''create table employee (employeeID real PRIMARY KEY, firstName text, lastName text, hours real)''')\n",
        "connectionToDatabase.commit()"
      ],
      "execution_count": 0,
      "outputs": []
    },
    {
      "cell_type": "code",
      "metadata": {
        "id": "AvLCowTjIetC",
        "colab_type": "code",
        "colab": {}
      },
      "source": [
        "#EMPLOYEE DATA\n",
        "connectionToDatabase = sqlite3.connect('LibraryData') \n",
        "cursor = connectionToDatabase.cursor()\n",
        "\n",
        "cursor.execute('''insert into employee values ('10', 'Matt', 'Trimble', '47' )''')\n",
        "connectionToDatabase.commit()\n",
        "cursor.execute('''insert into employee values ('11', 'Becca', 'Densmore', '32' )''')\n",
        "connectionToDatabase.commit()\n",
        "cursor.execute('''insert into employee values ('12', 'Joe', 'Plunket', '23' )''')\n",
        "connectionToDatabase.commit()\n",
        "cursor.execute('''insert into employee values ('13', 'Bridget', 'Brown', '18' )''')\n",
        "connectionToDatabase.commit()\n",
        "cursor.execute('''insert into employee values ('14', 'Julie', 'Smith', '24' )''')\n",
        "connectionToDatabase.commit()"
      ],
      "execution_count": 0,
      "outputs": []
    },
    {
      "cell_type": "code",
      "metadata": {
        "id": "A5g99ZGRaazq",
        "colab_type": "code",
        "outputId": "e659eb0f-fca5-4104-ea69-5ca497348c55",
        "colab": {
          "base_uri": "https://localhost:8080/",
          "height": 103
        }
      },
      "source": [
        "cursor.execute('''select * from employee''')\n",
        "for row in cursor.fetchall():\n",
        "  print(row)"
      ],
      "execution_count": 12,
      "outputs": [
        {
          "output_type": "stream",
          "text": [
            "(10.0, 'Matt', 'Trimble', 47.0)\n",
            "(11.0, 'Becca', 'Densmore', 32.0)\n",
            "(12.0, 'Joe', 'Plunket', 23.0)\n",
            "(13.0, 'Bridget', 'Brown', 18.0)\n",
            "(14.0, 'Julie', 'Smith', 24.0)\n"
          ],
          "name": "stdout"
        }
      ]
    },
    {
      "cell_type": "code",
      "metadata": {
        "id": "8zTPMVK17ELM",
        "colab_type": "code",
        "colab": {}
      },
      "source": [
        "#USER\n",
        "connectionToDatabase = sqlite3.connect('LibraryData') \n",
        "cursor = connectionToDatabase.cursor()\n",
        "cursor.execute('''drop table IF EXISTS user''')\n",
        "connectionToDatabase.commit()\n",
        "\n",
        "cursor.execute('''create table user (userID real PRIMARY KEY, firstName text, lastName text, bookID real)''')\n",
        "connectionToDatabase.commit()"
      ],
      "execution_count": 0,
      "outputs": []
    },
    {
      "cell_type": "code",
      "metadata": {
        "id": "Y-1hEqFvGqwF",
        "colab_type": "code",
        "colab": {}
      },
      "source": [
        "#USER DATA\n",
        "connectionToDatabase = sqlite3.connect('LibraryData') \n",
        "cursor = connectionToDatabase.cursor()\n",
        "\n",
        "cursor.execute('''insert into user values ('01', 'Hannah', 'Kern', '67324' )''')\n",
        "connectionToDatabase.commit()\n",
        "cursor.execute('''insert into user values ('02', 'Luke', 'Devine', '32147' )''')\n",
        "connectionToDatabase.commit()\n",
        "cursor.execute('''insert into user values ('03', 'Jack', 'Mansur', '23147' )''')\n",
        "connectionToDatabase.commit()\n",
        "cursor.execute('''insert into user values ('04', 'Corina', 'Brems', '98432' )''')\n",
        "connectionToDatabase.commit()\n",
        "cursor.execute('''insert into user values ('05', 'Sean', 'Lawrence', '73279' )''')\n",
        "connectionToDatabase.commit()"
      ],
      "execution_count": 0,
      "outputs": []
    },
    {
      "cell_type": "code",
      "metadata": {
        "id": "q7kyFO5Ib_Yk",
        "colab_type": "code",
        "colab": {
          "base_uri": "https://localhost:8080/",
          "height": 103
        },
        "outputId": "34bcc676-4efc-49f9-8297-df580b7eaeb1"
      },
      "source": [
        "cursor.execute('''select * from user''')\n",
        "for row in cursor.fetchall():\n",
        "  print(row)"
      ],
      "execution_count": 15,
      "outputs": [
        {
          "output_type": "stream",
          "text": [
            "(1.0, 'Hannah', 'Kern', 67324.0)\n",
            "(2.0, 'Luke', 'Devine', 32147.0)\n",
            "(3.0, 'Jack', 'Mansur', 23147.0)\n",
            "(4.0, 'Corina', 'Brems', 98432.0)\n",
            "(5.0, 'Sean', 'Lawrence', 73279.0)\n"
          ],
          "name": "stdout"
        }
      ]
    },
    {
      "cell_type": "markdown",
      "metadata": {
        "id": "0PARsF5InQ5v",
        "colab_type": "text"
      },
      "source": [
        "How many books are available in all the locations combined?"
      ]
    },
    {
      "cell_type": "code",
      "metadata": {
        "id": "iQHUl5uLaisa",
        "colab_type": "code",
        "outputId": "b25c9955-63a2-49b2-cc7e-c454f286c815",
        "colab": {
          "base_uri": "https://localhost:8080/",
          "height": 34
        }
      },
      "source": [
        "cursor.execute('''select SUM(booksAvailable) from branch''')\n",
        "for row in cursor.fetchall():\n",
        "  print(row)"
      ],
      "execution_count": 16,
      "outputs": [
        {
          "output_type": "stream",
          "text": [
            "(30080.0,)\n"
          ],
          "name": "stdout"
        }
      ]
    },
    {
      "cell_type": "markdown",
      "metadata": {
        "id": "pd8jLWEzr7qv",
        "colab_type": "text"
      },
      "source": [
        "This question is important because it gives information on how many books that can be found in the whole database. By knowing this user can be more willing to use the database to find the book that they want because it is more likely to have it. The database also knows how much information it may need to handle.\n"
      ]
    },
    {
      "cell_type": "markdown",
      "metadata": {
        "id": "uLfOZ5Zap8GF",
        "colab_type": "text"
      },
      "source": [
        "List all of the bills from the Pittsburgh branch"
      ]
    },
    {
      "cell_type": "code",
      "metadata": {
        "id": "Xx8HmtqHnOYV",
        "colab_type": "code",
        "outputId": "a27508c1-2eb4-477e-c679-75fa9092ec44",
        "colab": {
          "base_uri": "https://localhost:8080/",
          "height": 51
        }
      },
      "source": [
        "cursor.execute('''select * from bill where branchID = 42''')\n",
        "for row in cursor.fetchall():\n",
        "  print(row)"
      ],
      "execution_count": 17,
      "outputs": [
        {
          "output_type": "stream",
          "text": [
            "(33.0, 3.0, 2.65, 42.0)\n",
            "(34.0, 4.0, 15.32, 42.0)\n"
          ],
          "name": "stdout"
        }
      ]
    },
    {
      "cell_type": "markdown",
      "metadata": {
        "id": "i5qRK-M4zUCG",
        "colab_type": "text"
      },
      "source": [
        "By knowing all of the bills from the pittsburgh branch, employees can review them. This way they can easily find out which ones have been paid or when they are due. It will become much easier to know more about the specific bills. They can understand information clearer and sort it without worrying about information they don't need."
      ]
    },
    {
      "cell_type": "markdown",
      "metadata": {
        "id": "mjzEGBapqdQg",
        "colab_type": "text"
      },
      "source": [
        "What are the book with titles that contain \"the\"?"
      ]
    },
    {
      "cell_type": "code",
      "metadata": {
        "id": "w9kj5BO-nPY4",
        "colab_type": "code",
        "outputId": "63f4d1e9-be57-46af-b882-c41916b765b3",
        "colab": {
          "base_uri": "https://localhost:8080/",
          "height": 69
        }
      },
      "source": [
        "cursor.execute('''select * from book WHERE title LIKE \"%the%\"''')\n",
        "for row in cursor.fetchall():\n",
        "  print(row)"
      ],
      "execution_count": 18,
      "outputs": [
        {
          "output_type": "stream",
          "text": [
            "(21.0, 'Wuthering Heights', 2.0, 10.0)\n",
            "(23.0, 'The Great Gatsby', 5.0, 12.0)\n",
            "(24.0, 'The Grapes of Wrath', 1.0, 13.0)\n"
          ],
          "name": "stdout"
        }
      ]
    },
    {
      "cell_type": "markdown",
      "metadata": {
        "id": "hxHHe7GF1px7",
        "colab_type": "text"
      },
      "source": [
        "Users can easily search for books they want using keywords. They will be able to find books that they could be interested in by looking up keywords that they might want to read.They will then be more inclined to use the library because they will know that the library has books they want to read. "
      ]
    }
  ]
}